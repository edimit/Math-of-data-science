{
  "nbformat": 4,
  "nbformat_minor": 0,
  "metadata": {
    "colab": {
      "name": "MATH 476: Programming Problems",
      "provenance": [],
      "authorship_tag": "ABX9TyPyggrnG6Uh09yEh1rcSCdV",
      "include_colab_link": true
    },
    "kernelspec": {
      "name": "python3",
      "display_name": "Python 3"
    },
    "language_info": {
      "name": "python"
    }
  },
  "cells": [
    {
      "cell_type": "markdown",
      "metadata": {
        "id": "view-in-github",
        "colab_type": "text"
      },
      "source": [
        "<a href=\"https://colab.research.google.com/github/joseph-c-mcguire/Math-of-data-science/blob/main/MATH_476_Programming_Problems.ipynb\" target=\"_parent\"><img src=\"https://colab.research.google.com/assets/colab-badge.svg\" alt=\"Open In Colab\"/></a>"
      ]
    },
    {
      "cell_type": "markdown",
      "source": [
        "# Problem 1\n",
        "For the Zachary Karate Club, plot the historgram of degrees of the nodes in the graph.\n",
        "Which node(s) has the highest degree? What's the psuedonym of this person?\n",
        "\n",
        "What do you notice about the graph? Is it skewed in any direction?\n",
        "\n",
        "Try this now with a planted partition model with $2$ groups, 15 nodes each, $p_{in} = 0.75$, and $p_{out} = 0.1$.\n",
        "How does this compare to the Zachary Karate Club example?\n"
      ],
      "metadata": {
        "id": "1jvItttrJ8qw"
      }
    },
    {
      "cell_type": "markdown",
      "source": [
        "# Problem 2\n",
        "\n",
        "Find a graph and a partitions that have the following modularities:\n",
        "- $Q(G,C) = 0$\n",
        "- $Q(G,C) < -0.25$\n",
        "- $Q(G,C) > 0.5$ "
      ],
      "metadata": {
        "id": "ez205XDje6nm"
      }
    },
    {
      "cell_type": "markdown",
      "source": [
        "# Problem 3\n",
        "\n",
        "Build the graph shown below:\n",
        "\n",
        "![graph.png](data:image/png;base64,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)\n",
        "\n",
        "Find the second-smallest eigenvalue of the Laplacian and its eigenvector.\n",
        "\n",
        "Map this into $\\mathbf{R}$ and use K-means clustering (with $ K = 2$) to find 2 clusters in $\\mathbf{R}$ (use Scikit-Learn).\n",
        "\n",
        "Map this clustering back into your graph."
      ],
      "metadata": {
        "id": "jPz1dnYvKj8c"
      }
    },
    {
      "cell_type": "markdown",
      "source": [
        "# Problem 4\n",
        "Recall that the modularity of a graph and a partition can be calculated as:\n",
        "\n",
        "$$Q(G,C) = \\dfrac{1}{2m} Tr(S^T B S) \\qquad B_{i,j} = A_{i,j} - \\dfrac{k_i k_j}{2m} \\qquad S_{i,j}= \\begin{cases}1 & \\text{if } i \\in C_j \\\\\n",
        "0 & \\text{otherwise}\\end{cases}.$$\n",
        "\n",
        "Write a function that takes in a networkx object ($G$) and a list of lists (e.g. [[1,2,3,4], [5,6,7,8]]) that contains the node partitions ($C$) and gives back the modularity using this definition."
      ],
      "metadata": {
        "id": "_WT7LWu1yCnd"
      }
    }
  ]
}
